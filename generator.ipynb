{
 "cells": [
  {
   "cell_type": "markdown",
   "metadata": {},
   "source": [
    "## Genrating masks from VIA JSON"
   ]
  },
  {
   "cell_type": "code",
   "execution_count": null,
   "metadata": {},
   "outputs": [],
   "source": [
    "import json\n",
    "import os\n",
    "import cv2\n",
    "import numpy as np\n"
   ]
  },
  {
   "cell_type": "code",
   "execution_count": null,
   "metadata": {},
   "outputs": [],
   "source": [
    "def generate_masks(json_file, images_dir, masks_dir):\n",
    "    with open(json_file, 'r') as file:\n",
    "        data = json.load(file)\n",
    "\n",
    "    annotations = data['_via_img_metadata'].values()\n",
    "\n",
    "    for annotation in annotations:\n",
    "        image_filename = annotation['filename']\n",
    "        image_path = os.path.join(images_dir, image_filename)\n",
    "        image = cv2.imread(image_path)\n",
    "\n",
    "        mask = np.zeros(image.shape[:2], dtype=np.uint8)\n",
    "        regions = annotation['regions']\n",
    "\n",
    "        for region in regions:\n",
    "            shape_attributes = region['shape_attributes']\n",
    "            region_type = region['region_attributes']['Shape']\n",
    "\n",
    "            if region_type == 'Circle':\n",
    "                if shape_attributes['name'] == 'circle':\n",
    "                    cx = int(shape_attributes['cx'])\n",
    "                    cy = int(shape_attributes['cy'])\n",
    "                    radius = int(shape_attributes['r'])\n",
    "                    cv2.circle(mask, (cx, cy), radius, 255, -1)\n",
    "\n",
    "            elif region_type == 'Polygon':\n",
    "                if shape_attributes['name'] == 'polygon':\n",
    "                    points_x = shape_attributes['all_points_x']\n",
    "                    points_y = shape_attributes['all_points_y']\n",
    "                    points = np.array(list(zip(points_x, points_y)), np.int32)\n",
    "                    points = points.reshape((-1, 1, 2))\n",
    "                    cv2.fillPoly(mask, [points], 255)\n",
    "\n",
    "            elif region_type == 'Point':\n",
    "                if shape_attributes['name'] == 'point':\n",
    "                    x = int(shape_attributes['cx'])\n",
    "                    y = int(shape_attributes['cy'])\n",
    "                    cv2.circle(mask, (x, y), 1, 255, -1)\n",
    "\n",
    "        mask_filename = os.path.splitext(image_filename)[0] + '.png'\n",
    "        mask_path = os.path.join(masks_dir, mask_filename)\n",
    "        cv2.imwrite(mask_path, mask)"
   ]
  },
  {
   "cell_type": "code",
   "execution_count": null,
   "metadata": {},
   "outputs": [],
   "source": [
    "json_file = 'Put the path of the json file here'\n",
    "images_dir = 'Put the path of the images directory here'\n",
    "masks_dir = 'Put the path of the masks directory here'\n",
    "\n",
    "generate_masks(json_file, images_dir, masks_dir)"
   ]
  }
 ],
 "metadata": {
  "kernelspec": {
   "display_name": "Python 3.10.10 ('work')",
   "language": "python",
   "name": "python3"
  },
  "language_info": {
   "codemirror_mode": {
    "name": "ipython",
    "version": 3
   },
   "file_extension": ".py",
   "mimetype": "text/x-python",
   "name": "python",
   "nbconvert_exporter": "python",
   "pygments_lexer": "ipython3",
   "version": "3.10.10"
  },
  "orig_nbformat": 4,
  "vscode": {
   "interpreter": {
    "hash": "f6becb90ea85e501e0c5dc0cf472a45ace99c50f8d1426b3da8c341d18623653"
   }
  }
 },
 "nbformat": 4,
 "nbformat_minor": 2
}
